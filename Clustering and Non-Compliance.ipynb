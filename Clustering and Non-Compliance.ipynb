{
 "cells": [
  {
   "attachments": {},
   "cell_type": "markdown",
   "metadata": {},
   "source": [
    "# Clustering and Non-Compliance on Experimental Data."
   ]
  },
  {
   "cell_type": "markdown",
   "metadata": {},
   "source": [
    "#### Clustering\n",
    "\n",
    "In the context of experimental design, clustering refers to a method used to group experimental units or subjects into homogeneous subsets based on certain characteristics or attributes. The goal of clustering is to create groups that are internally similar and externally dissimilar. By clustering similar units together, researchers can reduce variability within each group and increase the efficiency of experiments. This allows for more precise comparisons and analysis of treatment effects. Clustering in experimental design helps to create a balanced and representative sample of the population under study.\n",
    "\n",
    "#### Data Context and Purpose\n",
    "\n",
    "This dataset pertains to a hypothetical Randomized Controlled Trial (RCT) for application of a technique called \"clustered randomization.\" In this scenario, there are a total of 200 stores within a company. These stores were randomly assigned into two groups: 100 treatment stores and 100 control stores.\n",
    "\n",
    "In the treatment group, pictures of individuals using the products sold in the store were displayed as in-store advertisements. The objective of the study is to examine whether these in-store advertisements have an impact on the amount of purchases made by customers.\n",
    "\n",
    "To gather the necessary information, data was collected from the first 1,000 individuals who entered the stores after the launch of the experiment. For each of these 1,000 people, the amount they purchased at the store was recorded."
   ]
  },
  {
   "cell_type": "code",
   "execution_count": 37,
   "metadata": {},
   "outputs": [],
   "source": [
    "# Import The Required Libraries\n",
    "import numpy as np\n",
    "import pandas as pd\n",
    "import matplotlib.pyplot as plt\n",
    "import seaborn as sns\n",
    "import statsmodels.api as sm\n",
    "from sklearn.linear_model import LinearRegression\n",
    "from sklearn.model_selection import train_test_split\n",
    "from sklearn.metrics import mean_squared_error\n",
    "from sklearn.metrics import r2_score"
   ]
  },
  {
   "cell_type": "code",
   "execution_count": 38,
   "metadata": {},
   "outputs": [],
   "source": [
    "# Read the data\n",
    "df = pd.read_csv('cluster.csv')"
   ]
  },
  {
   "cell_type": "code",
   "execution_count": 39,
   "metadata": {},
   "outputs": [
    {
     "data": {
      "text/html": [
       "<div>\n",
       "<style scoped>\n",
       "    .dataframe tbody tr th:only-of-type {\n",
       "        vertical-align: middle;\n",
       "    }\n",
       "\n",
       "    .dataframe tbody tr th {\n",
       "        vertical-align: top;\n",
       "    }\n",
       "\n",
       "    .dataframe thead th {\n",
       "        text-align: right;\n",
       "    }\n",
       "</style>\n",
       "<table border=\"1\" class=\"dataframe\">\n",
       "  <thead>\n",
       "    <tr style=\"text-align: right;\">\n",
       "      <th></th>\n",
       "      <th>treatment</th>\n",
       "      <th>store_id</th>\n",
       "      <th>sale</th>\n",
       "      <th>customer_id</th>\n",
       "    </tr>\n",
       "  </thead>\n",
       "  <tbody>\n",
       "    <tr>\n",
       "      <th>0</th>\n",
       "      <td>1</td>\n",
       "      <td>1</td>\n",
       "      <td>95.496437</td>\n",
       "      <td>1</td>\n",
       "    </tr>\n",
       "    <tr>\n",
       "      <th>1</th>\n",
       "      <td>1</td>\n",
       "      <td>1</td>\n",
       "      <td>66.053520</td>\n",
       "      <td>2</td>\n",
       "    </tr>\n",
       "    <tr>\n",
       "      <th>2</th>\n",
       "      <td>1</td>\n",
       "      <td>1</td>\n",
       "      <td>82.490273</td>\n",
       "      <td>3</td>\n",
       "    </tr>\n",
       "    <tr>\n",
       "      <th>3</th>\n",
       "      <td>1</td>\n",
       "      <td>1</td>\n",
       "      <td>81.939018</td>\n",
       "      <td>4</td>\n",
       "    </tr>\n",
       "    <tr>\n",
       "      <th>4</th>\n",
       "      <td>1</td>\n",
       "      <td>1</td>\n",
       "      <td>77.757187</td>\n",
       "      <td>5</td>\n",
       "    </tr>\n",
       "  </tbody>\n",
       "</table>\n",
       "</div>"
      ],
      "text/plain": [
       "   treatment  store_id       sale  customer_id\n",
       "0          1         1  95.496437            1\n",
       "1          1         1  66.053520            2\n",
       "2          1         1  82.490273            3\n",
       "3          1         1  81.939018            4\n",
       "4          1         1  77.757187            5"
      ]
     },
     "execution_count": 39,
     "metadata": {},
     "output_type": "execute_result"
    }
   ],
   "source": [
    "# Preview the data\n",
    "df.head()"
   ]
  },
  {
   "cell_type": "code",
   "execution_count": 40,
   "metadata": {},
   "outputs": [
    {
     "data": {
      "text/plain": [
       "treatment        int64\n",
       "store_id         int64\n",
       "sale           float64\n",
       "customer_id      int64\n",
       "dtype: object"
      ]
     },
     "execution_count": 40,
     "metadata": {},
     "output_type": "execute_result"
    }
   ],
   "source": [
    "# Check the data types\n",
    "df.dtypes"
   ]
  },
  {
   "cell_type": "code",
   "execution_count": 41,
   "metadata": {},
   "outputs": [
    {
     "data": {
      "text/plain": [
       "(200000, 4)"
      ]
     },
     "execution_count": 41,
     "metadata": {},
     "output_type": "execute_result"
    }
   ],
   "source": [
    "# Check the shape of the data\n",
    "df.shape"
   ]
  },
  {
   "cell_type": "code",
   "execution_count": 42,
   "metadata": {},
   "outputs": [
    {
     "data": {
      "text/html": [
       "<div>\n",
       "<style scoped>\n",
       "    .dataframe tbody tr th:only-of-type {\n",
       "        vertical-align: middle;\n",
       "    }\n",
       "\n",
       "    .dataframe tbody tr th {\n",
       "        vertical-align: top;\n",
       "    }\n",
       "\n",
       "    .dataframe thead th {\n",
       "        text-align: right;\n",
       "    }\n",
       "</style>\n",
       "<table border=\"1\" class=\"dataframe\">\n",
       "  <thead>\n",
       "    <tr style=\"text-align: right;\">\n",
       "      <th></th>\n",
       "      <th>store_id</th>\n",
       "      <th>sale</th>\n",
       "      <th>customer_id</th>\n",
       "    </tr>\n",
       "    <tr>\n",
       "      <th>treatment</th>\n",
       "      <th></th>\n",
       "      <th></th>\n",
       "      <th></th>\n",
       "    </tr>\n",
       "  </thead>\n",
       "  <tbody>\n",
       "    <tr>\n",
       "      <th>0</th>\n",
       "      <td>98.11</td>\n",
       "      <td>75.148295</td>\n",
       "      <td>500.5</td>\n",
       "    </tr>\n",
       "    <tr>\n",
       "      <th>1</th>\n",
       "      <td>102.89</td>\n",
       "      <td>78.748684</td>\n",
       "      <td>500.5</td>\n",
       "    </tr>\n",
       "  </tbody>\n",
       "</table>\n",
       "</div>"
      ],
      "text/plain": [
       "           store_id       sale  customer_id\n",
       "treatment                                  \n",
       "0             98.11  75.148295        500.5\n",
       "1            102.89  78.748684        500.5"
      ]
     },
     "execution_count": 42,
     "metadata": {},
     "output_type": "execute_result"
    }
   ],
   "source": [
    "# Check the averages by treatment\n",
    "df.groupby('treatment').mean()"
   ]
  },
  {
   "cell_type": "code",
   "execution_count": 43,
   "metadata": {},
   "outputs": [
    {
     "data": {
      "text/plain": [
       "treatment\n",
       "0    100000\n",
       "1    100000\n",
       "dtype: int64"
      ]
     },
     "execution_count": 43,
     "metadata": {},
     "output_type": "execute_result"
    }
   ],
   "source": [
    "# Calculate the amount of records for each treatment\n",
    "df.groupby('treatment').size()"
   ]
  },
  {
   "cell_type": "markdown",
   "metadata": {},
   "source": [
    "To calculate the average treatment effect (ATE) on sales and its corresponding 95% confidence interval (CI), we assume that each of the 200,000 observations in the dataset can be treated as independent.\n",
    "\n",
    "Using the dataset, we analyze the impact of in-store advertisements on sales. The ATE represents the average difference in sales between the treatment group (stores with in-store advertisements) and the control group (stores without in-store advertisements).\n",
    "\n",
    "To compute the ATE, we take the average sales in the treatment group and subtract the average sales in the control group. The 95% confidence interval provides a range within which we can be 95% confident that the true ATE lies."
   ]
  },
  {
   "cell_type": "code",
   "execution_count": 44,
   "metadata": {},
   "outputs": [
    {
     "name": "stdout",
     "output_type": "stream",
     "text": [
      "The average treatment effect (ATE) is 3.60038876098929 with a 95% confidence interval of (3.41628632508447, 3.78449119689411)\n"
     ]
    }
   ],
   "source": [
    "# Calculate average treatment effect on sale (ATE) for treatment with a 95% confidence interval\n",
    "ATE = df[df['treatment'] == 1]['sale'].mean() - df[df['treatment'] == 0]['sale'].mean()\n",
    "ATE\n",
    "\n",
    "# Calculate the standard error of the ATE\n",
    "ATE_SE = np.sqrt((df[df['treatment'] == 1]['sale'].var() / df[df['treatment'] == 1]['sale'].count()) + (df[df['treatment'] == 0]['sale'].var() / df[df['treatment'] == 0]['sale'].count()))\n",
    "\n",
    "# Calculate the 95% confidence interval\n",
    "ATE_CI = (ATE - 1.96 * ATE_SE, ATE + 1.96 * ATE_SE)\n",
    "ATE_CI\n",
    "\n",
    "# Print the results\n",
    "print('The average treatment effect (ATE) is', ATE, 'with a 95% confidence interval of', ATE_CI)"
   ]
  },
  {
   "cell_type": "code",
   "execution_count": 45,
   "metadata": {},
   "outputs": [
    {
     "data": {
      "text/plain": [
       "0.09392981423715299"
      ]
     },
     "execution_count": 45,
     "metadata": {},
     "output_type": "execute_result"
    }
   ],
   "source": [
    "ATE_SE"
   ]
  },
  {
   "attachments": {},
   "cell_type": "markdown",
   "metadata": {},
   "source": [
    "To calculate the average sales amount at each store and create a new dataset of the 200 observations, we will aggregate the sales data for each store and include the treatment status of the store in the new dataset.\n",
    "\n",
    "From the original dataset, which contains 200,000 observations, we will calculate the average sales amount for each of the 200 stores. This involves summing up the sales amounts for all customers who visited a particular store and then dividing by the total number of customers at that store.\n",
    "\n",
    "Once we have the average sales amount for each store, we will create a new dataset with 200 observations. Each observation in the new dataset will contain the average sales amount at a specific store and the treatment status of that store (whether it belongs to the treatment or control group).\n",
    "\n",
    "By condensing the data to 200 observations, we can focus on the overall average sales amount and the treatment status of each store, which will be useful for further analysis and comparison between the treatment and control groups."
   ]
  },
  {
   "cell_type": "code",
   "execution_count": 46,
   "metadata": {},
   "outputs": [
    {
     "data": {
      "text/html": [
       "<div>\n",
       "<style scoped>\n",
       "    .dataframe tbody tr th:only-of-type {\n",
       "        vertical-align: middle;\n",
       "    }\n",
       "\n",
       "    .dataframe tbody tr th {\n",
       "        vertical-align: top;\n",
       "    }\n",
       "\n",
       "    .dataframe thead th {\n",
       "        text-align: right;\n",
       "    }\n",
       "</style>\n",
       "<table border=\"1\" class=\"dataframe\">\n",
       "  <thead>\n",
       "    <tr style=\"text-align: right;\">\n",
       "      <th></th>\n",
       "      <th>store_id</th>\n",
       "      <th>treatment</th>\n",
       "      <th>sale</th>\n",
       "      <th>customer_id</th>\n",
       "    </tr>\n",
       "  </thead>\n",
       "  <tbody>\n",
       "    <tr>\n",
       "      <th>0</th>\n",
       "      <td>1</td>\n",
       "      <td>1</td>\n",
       "      <td>68.686135</td>\n",
       "      <td>500.5</td>\n",
       "    </tr>\n",
       "    <tr>\n",
       "      <th>1</th>\n",
       "      <td>2</td>\n",
       "      <td>0</td>\n",
       "      <td>85.262843</td>\n",
       "      <td>500.5</td>\n",
       "    </tr>\n",
       "    <tr>\n",
       "      <th>2</th>\n",
       "      <td>3</td>\n",
       "      <td>0</td>\n",
       "      <td>56.063686</td>\n",
       "      <td>500.5</td>\n",
       "    </tr>\n",
       "    <tr>\n",
       "      <th>3</th>\n",
       "      <td>4</td>\n",
       "      <td>1</td>\n",
       "      <td>72.525568</td>\n",
       "      <td>500.5</td>\n",
       "    </tr>\n",
       "    <tr>\n",
       "      <th>4</th>\n",
       "      <td>5</td>\n",
       "      <td>1</td>\n",
       "      <td>89.928989</td>\n",
       "      <td>500.5</td>\n",
       "    </tr>\n",
       "    <tr>\n",
       "      <th>...</th>\n",
       "      <td>...</td>\n",
       "      <td>...</td>\n",
       "      <td>...</td>\n",
       "      <td>...</td>\n",
       "    </tr>\n",
       "    <tr>\n",
       "      <th>195</th>\n",
       "      <td>196</td>\n",
       "      <td>0</td>\n",
       "      <td>71.414121</td>\n",
       "      <td>500.5</td>\n",
       "    </tr>\n",
       "    <tr>\n",
       "      <th>196</th>\n",
       "      <td>197</td>\n",
       "      <td>1</td>\n",
       "      <td>70.982562</td>\n",
       "      <td>500.5</td>\n",
       "    </tr>\n",
       "    <tr>\n",
       "      <th>197</th>\n",
       "      <td>198</td>\n",
       "      <td>1</td>\n",
       "      <td>87.530904</td>\n",
       "      <td>500.5</td>\n",
       "    </tr>\n",
       "    <tr>\n",
       "      <th>198</th>\n",
       "      <td>199</td>\n",
       "      <td>1</td>\n",
       "      <td>96.036842</td>\n",
       "      <td>500.5</td>\n",
       "    </tr>\n",
       "    <tr>\n",
       "      <th>199</th>\n",
       "      <td>200</td>\n",
       "      <td>1</td>\n",
       "      <td>72.359119</td>\n",
       "      <td>500.5</td>\n",
       "    </tr>\n",
       "  </tbody>\n",
       "</table>\n",
       "<p>200 rows × 4 columns</p>\n",
       "</div>"
      ],
      "text/plain": [
       "     store_id  treatment       sale  customer_id\n",
       "0           1          1  68.686135        500.5\n",
       "1           2          0  85.262843        500.5\n",
       "2           3          0  56.063686        500.5\n",
       "3           4          1  72.525568        500.5\n",
       "4           5          1  89.928989        500.5\n",
       "..        ...        ...        ...          ...\n",
       "195       196          0  71.414121        500.5\n",
       "196       197          1  70.982562        500.5\n",
       "197       198          1  87.530904        500.5\n",
       "198       199          1  96.036842        500.5\n",
       "199       200          1  72.359119        500.5\n",
       "\n",
       "[200 rows x 4 columns]"
      ]
     },
     "execution_count": 46,
     "metadata": {},
     "output_type": "execute_result"
    }
   ],
   "source": [
    "# Calculate the average of sales at each store_id for treatment and control\n",
    "df_2 = pd.DataFrame(df.groupby(['store_id', 'treatment']).mean())\n",
    "df_2 = df_2.reset_index()\n",
    "df_2"
   ]
  },
  {
   "attachments": {},
   "cell_type": "markdown",
   "metadata": {},
   "source": [
    "To calculate the average treatment effect (ATE) on sales using the store-level aggregated data and determine the corresponding 95% confidence interval (CI), we will utilize the dataset containing 200 observations, each representing a specific store.\n",
    "\n",
    "By analyzing the average sales data at each store, we can compare the treatment group (stores with in-store advertisements) to the control group (stores without in-store advertisements). The ATE represents the average difference in sales between these two groups.\n",
    "\n",
    "To compute the ATE, we subtract the average sales in the control group from the average sales in the treatment group. The 95% confidence interval provides a range within which we can be 95% confident that the true ATE lies.\n",
    "\n",
    "Using the store-level aggregated data, we will calculate the ATE and its corresponding CI, which will give us valuable insights into the impact of in-store advertisements on sales."
   ]
  },
  {
   "cell_type": "code",
   "execution_count": 47,
   "metadata": {},
   "outputs": [
    {
     "name": "stdout",
     "output_type": "stream",
     "text": [
      "The average treatment effect (ATE) is 3.6003887609905263 with a 95% confidence interval of (-0.4908495661125043, 7.691627088093557)\n"
     ]
    }
   ],
   "source": [
    "# Calculate the ATE at df_2 with a 95% confidence interval\n",
    "ATE = df_2[df_2['treatment'] == 1]['sale'].mean() - df_2[df_2['treatment'] == 0]['sale'].mean()\n",
    "ATE\n",
    "\n",
    "# Calculate the standard error of the ATE\n",
    "ATE_SE = np.sqrt((df_2[df_2['treatment'] == 1]['sale'].var() / df_2[df_2['treatment'] == 1]['sale'].count()) + (df_2[df_2['treatment'] == 0]['sale'].var() / df_2[df_2['treatment'] == 0]['sale'].count()))\n",
    "\n",
    "# Calculate the 95% confidence interval\n",
    "ATE_CI = (ATE - 1.96 * ATE_SE, ATE + 1.96 * ATE_SE)\n",
    "ATE_CI\n",
    "\n",
    "# Print the results\n",
    "print('The average treatment effect (ATE) is', ATE, 'with a 95% confidence interval of', ATE_CI)"
   ]
  },
  {
   "cell_type": "code",
   "execution_count": 48,
   "metadata": {},
   "outputs": [
    {
     "data": {
      "text/plain": [
       "2.0873664934199136"
      ]
     },
     "execution_count": 48,
     "metadata": {},
     "output_type": "execute_result"
    }
   ],
   "source": [
    "ATE_SE"
   ]
  },
  {
   "cell_type": "markdown",
   "metadata": {},
   "source": [
    "#### Non-Compliance\n",
    "\n",
    "Non-compliance, in the context of experimental design, refers to situations where participants or subjects do not adhere to the assigned treatment or fail to comply with the experimental protocol. Non-compliance can occur for various reasons, such as unwillingness to follow instructions, technical issues, or external factors influencing participant behavior. Non-compliance can introduce bias and impact the validity of experimental results. Researchers often employ strategies to address non-compliance, such as monitoring and tracking participant adherence, implementing incentives or reminders, or analyzing the data using intention-to-treat or complier average causal effect approaches. These approaches help to account for non-compliance and mitigate its potential effects on the experimental findings.\n",
    "\n",
    "#### Data Context and Purpose\n",
    "\n",
    "A company offers free on-site flu vaccine shots for employees.  The standard practice at the company has been to put up flyers about the on-site clinic days and send a mass-email to the company encouraging everyone to get the flu shot.  This year the company ran an Randomized Controlled Trial (RCT) to test a new program to try to increase the fraction of employees getting the shot. They had two treatment groups:\n",
    "\n",
    "- Treatment 1: Was sent an email encouraging them to take a short online “flu awareness quiz” that asked people to guess statistics about the flu and then showed them the right answers. By taking the survey the employee was entered into a lottery to win a $100 prize.  \n",
    "- Treatment 2: Was the same as Treatment 1.  However, after 1 week if the employee had not taken the online quiz, they got a short automated call to their work phone number to highlight it to them.   \n",
    "\n",
    "The company tracked both what fraction of the Treatment groups took the online quiz and whether each employee got the flu shot.  Here were the findings:  \n",
    "\n",
    "- Control:  64% got the flu shot \n",
    "- Treatment 1:  40% took the survey; 66% got the flu shot \n",
    "- Treatment 2:  60% took the survey; 68% got the flu shot."
   ]
  },
  {
   "cell_type": "code",
   "execution_count": 49,
   "metadata": {},
   "outputs": [],
   "source": [
    "# Define the variables\n",
    "Control_Effect = 0.64\n",
    "Treatment_1 = 0.66\n",
    "Survey_1= 0.40\n",
    "Treatment_2 = 0.68\n",
    "Survey_2 = 0.60"
   ]
  },
  {
   "attachments": {},
   "cell_type": "markdown",
   "metadata": {},
   "source": [
    "What is the Intention to Treat (ITT) estimate of the treatment effect for each treatment relative \n",
    "to control? "
   ]
  },
  {
   "cell_type": "code",
   "execution_count": 53,
   "metadata": {},
   "outputs": [
    {
     "name": "stdout",
     "output_type": "stream",
     "text": [
      "The ITT for Treatment 1 is 0.02 and the ITT for Treatment 2 is 0.04\n"
     ]
    }
   ],
   "source": [
    "# Calculate Intention to Treat\n",
    "ITT1 = Treatment_1 - Control_Effect\n",
    "ITT1\n",
    "\n",
    "ITT2 = Treatment_2 - Control_Effect\n",
    "ITT2\n",
    "\n",
    "print('The ITT for Treatment 1 is', round(ITT1, 2), 'and the ITT for Treatment 2 is', round(ITT2, 2))"
   ]
  },
  {
   "attachments": {},
   "cell_type": "markdown",
   "metadata": {},
   "source": [
    "What is the Treatment-On-The-Treated (TOT) for effect of survey on flu shot, comparing Treatment 1 to control?   "
   ]
  },
  {
   "cell_type": "code",
   "execution_count": 54,
   "metadata": {},
   "outputs": [
    {
     "name": "stdout",
     "output_type": "stream",
     "text": [
      "The TOT for Treatment 1 is 0.05\n"
     ]
    }
   ],
   "source": [
    "TOT1 = ITT1 / Survey_1\n",
    "print('The TOT for Treatment 1 is', round(TOT1, 2))"
   ]
  },
  {
   "attachments": {},
   "cell_type": "markdown",
   "metadata": {},
   "source": [
    "What is the Treatment-On-The-Treated (TOT) for effect of survey on flu shot, comparing Treatment 2 to control?   "
   ]
  },
  {
   "cell_type": "code",
   "execution_count": 55,
   "metadata": {},
   "outputs": [
    {
     "name": "stdout",
     "output_type": "stream",
     "text": [
      "The TOT for Treatment 2 is 0.07\n"
     ]
    }
   ],
   "source": [
    "TOT2 = ITT2 / Survey_2\n",
    "print('The TOT for Treatment 2 is', round(TOT2, 2))"
   ]
  },
  {
   "attachments": {},
   "cell_type": "markdown",
   "metadata": {},
   "source": [
    "What is the Treatment-On-The-Treated (TOT)  for effect of survey on flu shot, comparing Treatment 2 to Treatment 1?   "
   ]
  },
  {
   "cell_type": "code",
   "execution_count": 56,
   "metadata": {},
   "outputs": [
    {
     "name": "stdout",
     "output_type": "stream",
     "text": [
      "The ITT for Treatment 3 is 0.04\n"
     ]
    }
   ],
   "source": [
    "ITT_3 = 0.68 - 0.64\n",
    "print('The ITT for Treatment 3 is', round(ITT_3, 2))"
   ]
  },
  {
   "cell_type": "code",
   "execution_count": 57,
   "metadata": {},
   "outputs": [
    {
     "name": "stdout",
     "output_type": "stream",
     "text": [
      "The Survey for Treatment 3 is 0.2\n"
     ]
    }
   ],
   "source": [
    "Survey_3 = Survey_2 - Survey_1\n",
    "print('The Survey for Treatment 3 is', round(Survey_3, 2))"
   ]
  },
  {
   "cell_type": "code",
   "execution_count": 58,
   "metadata": {},
   "outputs": [
    {
     "name": "stdout",
     "output_type": "stream",
     "text": [
      "The TOT for Treatment 3 is 0.2\n"
     ]
    }
   ],
   "source": [
    "TOT3 = ITT_3 / Survey_3\n",
    "print('The TOT for Treatment 3 is', round(TOT3, 2))"
   ]
  }
 ],
 "metadata": {
  "kernelspec": {
   "display_name": "Python 3.9.12 ('base')",
   "language": "python",
   "name": "python3"
  },
  "language_info": {
   "codemirror_mode": {
    "name": "ipython",
    "version": 3
   },
   "file_extension": ".py",
   "mimetype": "text/x-python",
   "name": "python",
   "nbconvert_exporter": "python",
   "pygments_lexer": "ipython3",
   "version": "3.9.12 (main, Apr  4 2022, 05:22:27) [MSC v.1916 64 bit (AMD64)]"
  },
  "orig_nbformat": 4,
  "vscode": {
   "interpreter": {
    "hash": "ad2bdc8ecc057115af97d19610ffacc2b4e99fae6737bb82f5d7fb13d2f2c186"
   }
  }
 },
 "nbformat": 4,
 "nbformat_minor": 2
}
