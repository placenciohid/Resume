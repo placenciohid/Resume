{
 "cells": [
  {
   "attachments": {},
   "cell_type": "markdown",
   "metadata": {},
   "source": [
    "# Operation Room Scheduling Optimization With Pyomo"
   ]
  },
  {
   "cell_type": "markdown",
   "metadata": {},
   "source": [
    "### Pyomo Solver - Concrete Model\n",
    "\n",
    "Pyomo is a powerful optimization modeling language for mathematical programming in Python. It provides a convenient way to formulate optimization problems and interface with various solvers to find optimal solutions.\n",
    "\n",
    "Pyomo's concrete model() is a feature that allows you to define and solve optimization problems using a declarative approach. It provides a high-level, intuitive representation of the optimization problem, making it easier to formulate and solve complex scheduling problems.\n",
    "\n",
    "The elements of a concrete model() include:\n",
    "\n",
    "-  **Decision Variables**: Decision variables are variables that you define in an optimization problem to represent the quantities or choices that you want to determine. These variables determine the values that will be optimized. They capture the unknowns or decision points in the problem. \n",
    "\n",
    "-  **Objective Function**: The objective function is a mathematical expression that defines the quantity you want to maximize or minimize in an optimization problem. It represents the goal or measure of performance that you aim to optimize. The objective function typically depends on the decision variables.\n",
    "\n",
    "-  **Constraints**: Constraints are conditions or limitations that must be satisfied in an optimization problem. They represent the requirements or restrictions on the values of the decision variables. Constraints define the feasible region of the problem and help to narrow down the set of possible solutions. \n",
    "\n",
    "#### Data & Context - Operating Room Scheduling\n",
    "\n",
    "##### Define the problem\n",
    "\n",
    "The problem involves optimizing the scheduling of operating rooms in a healthcare facility over a three-month period. The objective is to maximize the number of procedures that can be scheduled during this time. The model aims to allocate procedures to available operating rooms while considering their durations and any constraints such as room availability and procedure compatibility. \n",
    "\n",
    "By finding an optimal solution, the goal is to improve resource utilization and increase the number of scheduled procedures, ultimately enhancing operational efficiency.\n",
    "\n",
    "##### Decision Variables\n",
    "\n",
    "* Schedule: A scheduling decision variable that indicates if a procedure is scheduled or not. It is a binary variable, with a value of 1 if the procedure is scheduled, and 0 if it is not scheduled. It is indexed by the Encounter ID, OR Suite, Day, and Time.\n",
    "\n",
    "##### Parameters\n",
    "\n",
    "* OR_Suites: Operating Room Suites - A total of 3 OR Suites\n",
    "* CPT_Codes: CPT Codes - A total of 32 CPT Codes\n",
    "* Booked_Time: Booked Time - The booked time estimated for each procedure (unique for each CPT Code)\n",
    "* Encounter ID: Encounter ID - A unique identifier for each procedure, with a total of 2172 procedures requested. Only 15% of them will go into the schedule excercise, through a random assigment, and with the purpose to make the calculations more managable.\n",
    "\n",
    "##### Constraints\n",
    "\n",
    "In order to provide the optimization nature to the problem, the following constraints were added:\n",
    "\n",
    "* The total booked time in a day cannot surpass 24 hours (3 OR Suites * 8 hours).\n",
    "* Each OR can only perform one procedure at a time.\n",
    "* Each procedure can only be performed in one OR Suite.\n",
    "* Each procedure can only be scheduled once.\n",
    "* The total booked time for each OR Suite cannot surpass 56 hours weekly.\n",
    "* The total booked time for each OR and Day cannot surpass 8 hours.\n",
    "\n",
    "##### Data\n",
    "\n",
    "The data consist of 2172 records to attemp to schedule. The data was created by somebody that specializes in Data Analytics for Health Care Providers, and comes from a public source: https://data.world/drjfalk/operating-room-utilization"
   ]
  },
  {
   "cell_type": "code",
   "execution_count": 105,
   "metadata": {},
   "outputs": [],
   "source": [
    "# Import the required libraries\n",
    "import pandas as pd\n",
    "import numpy as np\n",
    "import matplotlib.pyplot as plt\n",
    "import seaborn as sns\n",
    "import statsmodels.api as sm\n",
    "\n",
    "from pyomo.environ import *"
   ]
  },
  {
   "cell_type": "code",
   "execution_count": 106,
   "metadata": {},
   "outputs": [],
   "source": [
    "# Read the Excel data \n",
    "df = pd.read_excel('2022_Q1_OR_Utilization.xlsx')"
   ]
  },
  {
   "cell_type": "code",
   "execution_count": 107,
   "metadata": {},
   "outputs": [
    {
     "data": {
      "text/html": [
       "<div>\n",
       "<style scoped>\n",
       "    .dataframe tbody tr th:only-of-type {\n",
       "        vertical-align: middle;\n",
       "    }\n",
       "\n",
       "    .dataframe tbody tr th {\n",
       "        vertical-align: top;\n",
       "    }\n",
       "\n",
       "    .dataframe thead th {\n",
       "        text-align: right;\n",
       "    }\n",
       "</style>\n",
       "<table border=\"1\" class=\"dataframe\">\n",
       "  <thead>\n",
       "    <tr style=\"text-align: right;\">\n",
       "      <th></th>\n",
       "      <th>Encounter ID</th>\n",
       "      <th>Date</th>\n",
       "      <th>OR Suite</th>\n",
       "      <th>Service</th>\n",
       "      <th>CPT Code</th>\n",
       "      <th>CPT Description</th>\n",
       "      <th>Booked Time (min)</th>\n",
       "      <th>OR Schedule</th>\n",
       "      <th>Wheels In</th>\n",
       "      <th>Start Time</th>\n",
       "      <th>End Time</th>\n",
       "      <th>Wheels Out</th>\n",
       "    </tr>\n",
       "  </thead>\n",
       "  <tbody>\n",
       "    <tr>\n",
       "      <th>0</th>\n",
       "      <td>10001</td>\n",
       "      <td>2022-01-03</td>\n",
       "      <td>1</td>\n",
       "      <td>Podiatry</td>\n",
       "      <td>28110</td>\n",
       "      <td>Partial ostectomy, fifth metatarsal head</td>\n",
       "      <td>90</td>\n",
       "      <td>2022-01-03 07:00:00</td>\n",
       "      <td>2022-01-03 07:05:00</td>\n",
       "      <td>2022-01-03 07:32:00</td>\n",
       "      <td>2022-01-03 09:05:00</td>\n",
       "      <td>2022-01-03 09:17:00</td>\n",
       "    </tr>\n",
       "    <tr>\n",
       "      <th>1</th>\n",
       "      <td>10002</td>\n",
       "      <td>2022-01-03</td>\n",
       "      <td>1</td>\n",
       "      <td>Podiatry</td>\n",
       "      <td>28055</td>\n",
       "      <td>Neurectomy, intrinsic musculature of foot</td>\n",
       "      <td>60</td>\n",
       "      <td>2022-01-03 08:45:00</td>\n",
       "      <td>2022-01-03 09:48:00</td>\n",
       "      <td>2022-01-03 10:13:00</td>\n",
       "      <td>2022-01-03 11:01:00</td>\n",
       "      <td>2022-01-03 11:12:00</td>\n",
       "    </tr>\n",
       "    <tr>\n",
       "      <th>2</th>\n",
       "      <td>10003</td>\n",
       "      <td>2022-01-03</td>\n",
       "      <td>1</td>\n",
       "      <td>Podiatry</td>\n",
       "      <td>28297</td>\n",
       "      <td>Lapidus bunionectomy</td>\n",
       "      <td>150</td>\n",
       "      <td>2022-01-03 10:00:00</td>\n",
       "      <td>2022-01-03 11:50:00</td>\n",
       "      <td>2022-01-03 12:20:00</td>\n",
       "      <td>2022-01-03 12:42:00</td>\n",
       "      <td>2022-01-03 12:58:00</td>\n",
       "    </tr>\n",
       "    <tr>\n",
       "      <th>3</th>\n",
       "      <td>10004</td>\n",
       "      <td>2022-01-03</td>\n",
       "      <td>1</td>\n",
       "      <td>Podiatry</td>\n",
       "      <td>28296</td>\n",
       "      <td>Bunionectomy with distal osteotomy</td>\n",
       "      <td>120</td>\n",
       "      <td>2022-01-03 12:45:00</td>\n",
       "      <td>2022-01-03 13:29:00</td>\n",
       "      <td>2022-01-03 13:53:00</td>\n",
       "      <td>2022-01-03 14:50:00</td>\n",
       "      <td>2022-01-03 15:02:00</td>\n",
       "    </tr>\n",
       "    <tr>\n",
       "      <th>4</th>\n",
       "      <td>10005</td>\n",
       "      <td>2022-01-03</td>\n",
       "      <td>2</td>\n",
       "      <td>Orthopedics</td>\n",
       "      <td>27445</td>\n",
       "      <td>Arthroplasty, knee, hinge prothesis</td>\n",
       "      <td>120</td>\n",
       "      <td>2022-01-03 07:00:00</td>\n",
       "      <td>2022-01-03 07:15:00</td>\n",
       "      <td>2022-01-03 07:50:00</td>\n",
       "      <td>2022-01-03 09:38:00</td>\n",
       "      <td>2022-01-03 09:51:00</td>\n",
       "    </tr>\n",
       "  </tbody>\n",
       "</table>\n",
       "</div>"
      ],
      "text/plain": [
       "   Encounter ID       Date  OR Suite      Service  CPT Code  \\\n",
       "0         10001 2022-01-03         1     Podiatry     28110   \n",
       "1         10002 2022-01-03         1     Podiatry     28055   \n",
       "2         10003 2022-01-03         1     Podiatry     28297   \n",
       "3         10004 2022-01-03         1     Podiatry     28296   \n",
       "4         10005 2022-01-03         2  Orthopedics     27445   \n",
       "\n",
       "                             CPT Description  Booked Time (min)  \\\n",
       "0   Partial ostectomy, fifth metatarsal head                 90   \n",
       "1  Neurectomy, intrinsic musculature of foot                 60   \n",
       "2                       Lapidus bunionectomy                150   \n",
       "3         Bunionectomy with distal osteotomy                120   \n",
       "4        Arthroplasty, knee, hinge prothesis                120   \n",
       "\n",
       "          OR Schedule           Wheels In          Start Time  \\\n",
       "0 2022-01-03 07:00:00 2022-01-03 07:05:00 2022-01-03 07:32:00   \n",
       "1 2022-01-03 08:45:00 2022-01-03 09:48:00 2022-01-03 10:13:00   \n",
       "2 2022-01-03 10:00:00 2022-01-03 11:50:00 2022-01-03 12:20:00   \n",
       "3 2022-01-03 12:45:00 2022-01-03 13:29:00 2022-01-03 13:53:00   \n",
       "4 2022-01-03 07:00:00 2022-01-03 07:15:00 2022-01-03 07:50:00   \n",
       "\n",
       "             End Time          Wheels Out  \n",
       "0 2022-01-03 09:05:00 2022-01-03 09:17:00  \n",
       "1 2022-01-03 11:01:00 2022-01-03 11:12:00  \n",
       "2 2022-01-03 12:42:00 2022-01-03 12:58:00  \n",
       "3 2022-01-03 14:50:00 2022-01-03 15:02:00  \n",
       "4 2022-01-03 09:38:00 2022-01-03 09:51:00  "
      ]
     },
     "execution_count": 107,
     "metadata": {},
     "output_type": "execute_result"
    }
   ],
   "source": [
    "# Explore the data\n",
    "df.head()"
   ]
  },
  {
   "cell_type": "code",
   "execution_count": 108,
   "metadata": {},
   "outputs": [
    {
     "data": {
      "text/html": [
       "<div>\n",
       "<style scoped>\n",
       "    .dataframe tbody tr th:only-of-type {\n",
       "        vertical-align: middle;\n",
       "    }\n",
       "\n",
       "    .dataframe tbody tr th {\n",
       "        vertical-align: top;\n",
       "    }\n",
       "\n",
       "    .dataframe thead th {\n",
       "        text-align: right;\n",
       "    }\n",
       "</style>\n",
       "<table border=\"1\" class=\"dataframe\">\n",
       "  <thead>\n",
       "    <tr style=\"text-align: right;\">\n",
       "      <th></th>\n",
       "      <th>Encounter ID</th>\n",
       "      <th>OR Suite</th>\n",
       "      <th>CPT Code</th>\n",
       "      <th>Booked Time (min)</th>\n",
       "    </tr>\n",
       "  </thead>\n",
       "  <tbody>\n",
       "    <tr>\n",
       "      <th>count</th>\n",
       "      <td>2172.000000</td>\n",
       "      <td>2172.000000</td>\n",
       "      <td>2172.000000</td>\n",
       "      <td>2172.000000</td>\n",
       "    </tr>\n",
       "    <tr>\n",
       "      <th>mean</th>\n",
       "      <td>11086.500000</td>\n",
       "      <td>4.288674</td>\n",
       "      <td>44881.405617</td>\n",
       "      <td>77.189227</td>\n",
       "    </tr>\n",
       "    <tr>\n",
       "      <th>std</th>\n",
       "      <td>627.146713</td>\n",
       "      <td>2.163514</td>\n",
       "      <td>18087.419079</td>\n",
       "      <td>30.430015</td>\n",
       "    </tr>\n",
       "    <tr>\n",
       "      <th>min</th>\n",
       "      <td>10001.000000</td>\n",
       "      <td>1.000000</td>\n",
       "      <td>14060.000000</td>\n",
       "      <td>30.000000</td>\n",
       "    </tr>\n",
       "    <tr>\n",
       "      <th>25%</th>\n",
       "      <td>10543.750000</td>\n",
       "      <td>3.000000</td>\n",
       "      <td>28296.000000</td>\n",
       "      <td>60.000000</td>\n",
       "    </tr>\n",
       "    <tr>\n",
       "      <th>50%</th>\n",
       "      <td>11086.500000</td>\n",
       "      <td>4.000000</td>\n",
       "      <td>42826.000000</td>\n",
       "      <td>60.000000</td>\n",
       "    </tr>\n",
       "    <tr>\n",
       "      <th>75%</th>\n",
       "      <td>11629.250000</td>\n",
       "      <td>6.000000</td>\n",
       "      <td>66982.000000</td>\n",
       "      <td>90.000000</td>\n",
       "    </tr>\n",
       "    <tr>\n",
       "      <th>max</th>\n",
       "      <td>12172.000000</td>\n",
       "      <td>8.000000</td>\n",
       "      <td>69436.000000</td>\n",
       "      <td>180.000000</td>\n",
       "    </tr>\n",
       "  </tbody>\n",
       "</table>\n",
       "</div>"
      ],
      "text/plain": [
       "       Encounter ID     OR Suite      CPT Code  Booked Time (min)\n",
       "count   2172.000000  2172.000000   2172.000000        2172.000000\n",
       "mean   11086.500000     4.288674  44881.405617          77.189227\n",
       "std      627.146713     2.163514  18087.419079          30.430015\n",
       "min    10001.000000     1.000000  14060.000000          30.000000\n",
       "25%    10543.750000     3.000000  28296.000000          60.000000\n",
       "50%    11086.500000     4.000000  42826.000000          60.000000\n",
       "75%    11629.250000     6.000000  66982.000000          90.000000\n",
       "max    12172.000000     8.000000  69436.000000         180.000000"
      ]
     },
     "execution_count": 108,
     "metadata": {},
     "output_type": "execute_result"
    }
   ],
   "source": [
    "# Describe the data\n",
    "df.describe()"
   ]
  },
  {
   "cell_type": "code",
   "execution_count": 109,
   "metadata": {},
   "outputs": [
    {
     "data": {
      "text/plain": [
       "(2172, 12)"
      ]
     },
     "execution_count": 109,
     "metadata": {},
     "output_type": "execute_result"
    }
   ],
   "source": [
    "df.shape"
   ]
  },
  {
   "cell_type": "code",
   "execution_count": 110,
   "metadata": {},
   "outputs": [
    {
     "data": {
      "text/plain": [
       "2172"
      ]
     },
     "execution_count": 110,
     "metadata": {},
     "output_type": "execute_result"
    }
   ],
   "source": [
    "# Count of unique Encounter ID\n",
    "df['Encounter ID'].nunique()"
   ]
  },
  {
   "cell_type": "code",
   "execution_count": 111,
   "metadata": {},
   "outputs": [
    {
     "name": "stdout",
     "output_type": "stream",
     "text": [
      "32\n"
     ]
    }
   ],
   "source": [
    "# Count of unique CPT codes\n",
    "df['CPT Code'].nunique()\n",
    "print(df['CPT Code'].nunique())"
   ]
  },
  {
   "cell_type": "code",
   "execution_count": 112,
   "metadata": {},
   "outputs": [
    {
     "name": "stdout",
     "output_type": "stream",
     "text": [
      "CPT Code\n",
      "14060    1\n",
      "15773    1\n",
      "17110    1\n",
      "26045    1\n",
      "26356    1\n",
      "26735    1\n",
      "27130    1\n",
      "27445    1\n",
      "28055    1\n",
      "28060    1\n",
      "28110    1\n",
      "28285    1\n",
      "28289    1\n",
      "28296    1\n",
      "28297    1\n",
      "28820    1\n",
      "29877    1\n",
      "30400    1\n",
      "30520    1\n",
      "36901    1\n",
      "42826    1\n",
      "43775    1\n",
      "47562    1\n",
      "52353    1\n",
      "55250    1\n",
      "55873    1\n",
      "57460    1\n",
      "58562    1\n",
      "64721    1\n",
      "66982    2\n",
      "69421    1\n",
      "69436    1\n",
      "Name: Booked Time (min), dtype: int64\n"
     ]
    }
   ],
   "source": [
    "# Does each procedure has the same booked time?\n",
    "print(df.groupby('CPT Code')['Booked Time (min)'].nunique())"
   ]
  },
  {
   "cell_type": "markdown",
   "metadata": {},
   "source": [
    "For simplicity purposes the procedures times have been standarized for individual codes."
   ]
  },
  {
   "cell_type": "code",
   "execution_count": 113,
   "metadata": {},
   "outputs": [
    {
     "name": "stdout",
     "output_type": "stream",
     "text": [
      "[45 30]\n"
     ]
    }
   ],
   "source": [
    "# Checking for CPT Code 66982 booked time\n",
    "print(df[df['CPT Code'] == 66982]['Booked Time (min)'].unique())"
   ]
  },
  {
   "cell_type": "code",
   "execution_count": 114,
   "metadata": {},
   "outputs": [],
   "source": [
    "# Transforming the values from 30 to 45\n",
    "df.loc[df['CPT Code'] == 66982, 'Booked Time (min)'] = 45"
   ]
  },
  {
   "cell_type": "code",
   "execution_count": 115,
   "metadata": {},
   "outputs": [
    {
     "name": "stdout",
     "output_type": "stream",
     "text": [
      "[45]\n"
     ]
    }
   ],
   "source": [
    "# Checking for CPT Code 66982 booked time\n",
    "print(df[df['CPT Code'] == 66982]['Booked Time (min)'].unique())"
   ]
  },
  {
   "cell_type": "code",
   "execution_count": 116,
   "metadata": {},
   "outputs": [
    {
     "name": "stdout",
     "output_type": "stream",
     "text": [
      "CPT Code\n",
      "14060    1\n",
      "15773    1\n",
      "17110    1\n",
      "26045    1\n",
      "26356    1\n",
      "26735    1\n",
      "27130    1\n",
      "27445    1\n",
      "28055    1\n",
      "28060    1\n",
      "28110    1\n",
      "28285    1\n",
      "28289    1\n",
      "28296    1\n",
      "28297    1\n",
      "28820    1\n",
      "29877    1\n",
      "30400    1\n",
      "30520    1\n",
      "36901    1\n",
      "42826    1\n",
      "43775    1\n",
      "47562    1\n",
      "52353    1\n",
      "55250    1\n",
      "55873    1\n",
      "57460    1\n",
      "58562    1\n",
      "64721    1\n",
      "66982    1\n",
      "69421    1\n",
      "69436    1\n",
      "Name: Booked Time (min), dtype: int64\n"
     ]
    }
   ],
   "source": [
    "# Does each procedure has the same booked time?\n",
    "print(df.groupby('CPT Code')['Booked Time (min)'].nunique())"
   ]
  },
  {
   "cell_type": "code",
   "execution_count": 117,
   "metadata": {},
   "outputs": [],
   "source": [
    "# Dropping the not needed columns from the df dataframe\n",
    "df.drop(['Date', 'OR Suite', 'OR Schedule',\t'Wheels In', 'Start Time', 'End Time', 'Wheels Out', 'Service'], axis=1, inplace=True)"
   ]
  },
  {
   "cell_type": "code",
   "execution_count": 118,
   "metadata": {},
   "outputs": [],
   "source": [
    "# Transform the Booked Time (min) column to hours\n",
    "df['Booked Time (min)'] = df['Booked Time (min)'] / 60"
   ]
  },
  {
   "cell_type": "code",
   "execution_count": 119,
   "metadata": {},
   "outputs": [],
   "source": [
    "# Change the Booked Time (min) column name to Booked Time (hr)\n",
    "df.rename(columns={'Booked Time (min)': 'Booked Time (hr)'}, inplace=True)"
   ]
  },
  {
   "attachments": {},
   "cell_type": "markdown",
   "metadata": {},
   "source": [
    "### Data Reduction\n",
    "\n",
    "Considering the computing effort, and that the total amount of records represent the execution of 90 days of operations, for this excercise I will take the proportion of 2 weeks, which is around 15% of the data. This will allow to run the model in a reasonable amount of time."
   ]
  },
  {
   "cell_type": "code",
   "execution_count": 120,
   "metadata": {},
   "outputs": [],
   "source": [
    "# Randoming select 15% of the df data\n",
    "df = df.sample(frac=0.15, random_state=1)"
   ]
  },
  {
   "cell_type": "code",
   "execution_count": 121,
   "metadata": {},
   "outputs": [
    {
     "data": {
      "text/html": [
       "<div>\n",
       "<style scoped>\n",
       "    .dataframe tbody tr th:only-of-type {\n",
       "        vertical-align: middle;\n",
       "    }\n",
       "\n",
       "    .dataframe tbody tr th {\n",
       "        vertical-align: top;\n",
       "    }\n",
       "\n",
       "    .dataframe thead th {\n",
       "        text-align: right;\n",
       "    }\n",
       "</style>\n",
       "<table border=\"1\" class=\"dataframe\">\n",
       "  <thead>\n",
       "    <tr style=\"text-align: right;\">\n",
       "      <th></th>\n",
       "      <th>Encounter ID</th>\n",
       "      <th>CPT Code</th>\n",
       "      <th>CPT Description</th>\n",
       "      <th>Booked Time (hr)</th>\n",
       "    </tr>\n",
       "  </thead>\n",
       "  <tbody>\n",
       "    <tr>\n",
       "      <th>952</th>\n",
       "      <td>10953</td>\n",
       "      <td>42826</td>\n",
       "      <td>Tonsillectomy</td>\n",
       "      <td>1.0</td>\n",
       "    </tr>\n",
       "    <tr>\n",
       "      <th>1285</th>\n",
       "      <td>11286</td>\n",
       "      <td>28110</td>\n",
       "      <td>Partial ostectomy, fifth metatarsal head</td>\n",
       "      <td>1.5</td>\n",
       "    </tr>\n",
       "    <tr>\n",
       "      <th>726</th>\n",
       "      <td>10727</td>\n",
       "      <td>28285</td>\n",
       "      <td>Correction, hammertoe</td>\n",
       "      <td>1.0</td>\n",
       "    </tr>\n",
       "    <tr>\n",
       "      <th>2016</th>\n",
       "      <td>12017</td>\n",
       "      <td>55250</td>\n",
       "      <td>Vasectomy</td>\n",
       "      <td>1.0</td>\n",
       "    </tr>\n",
       "    <tr>\n",
       "      <th>406</th>\n",
       "      <td>10407</td>\n",
       "      <td>69436</td>\n",
       "      <td>Tympanostomy, general anesthesia</td>\n",
       "      <td>1.0</td>\n",
       "    </tr>\n",
       "  </tbody>\n",
       "</table>\n",
       "</div>"
      ],
      "text/plain": [
       "      Encounter ID  CPT Code                           CPT Description  \\\n",
       "952          10953     42826                             Tonsillectomy   \n",
       "1285         11286     28110  Partial ostectomy, fifth metatarsal head   \n",
       "726          10727     28285                     Correction, hammertoe   \n",
       "2016         12017     55250                                 Vasectomy   \n",
       "406          10407     69436          Tympanostomy, general anesthesia   \n",
       "\n",
       "      Booked Time (hr)  \n",
       "952                1.0  \n",
       "1285               1.5  \n",
       "726                1.0  \n",
       "2016               1.0  \n",
       "406                1.0  "
      ]
     },
     "execution_count": 121,
     "metadata": {},
     "output_type": "execute_result"
    }
   ],
   "source": [
    "df.head()"
   ]
  },
  {
   "cell_type": "code",
   "execution_count": 122,
   "metadata": {},
   "outputs": [
    {
     "data": {
      "text/plain": [
       "(326, 4)"
      ]
     },
     "execution_count": 122,
     "metadata": {},
     "output_type": "execute_result"
    }
   ],
   "source": [
    "df.shape"
   ]
  },
  {
   "cell_type": "code",
   "execution_count": 123,
   "metadata": {},
   "outputs": [
    {
     "data": {
      "text/plain": [
       "413.25"
      ]
     },
     "execution_count": 123,
     "metadata": {},
     "output_type": "execute_result"
    }
   ],
   "source": [
    "# Add all DF Booked Time (hr) \n",
    "df['Booked Time (hr)'].sum()"
   ]
  },
  {
   "attachments": {},
   "cell_type": "markdown",
   "metadata": {},
   "source": [
    "The total hours available for 1 week of 3 Operating Rooms is 168 hours, which is 8 hours a day, 7 days a week, for the 3 OR Suites. The total \"Demand\" hours coming from the data frame is 413 hours, which is 2.45 times the total available hours. "
   ]
  },
  {
   "cell_type": "code",
   "execution_count": 124,
   "metadata": {},
   "outputs": [],
   "source": [
    "# Create a optimization model to schedule the Operating Rooms for a period of 3 months\n",
    "\n",
    "# The model will be based on the following assumptions:\n",
    "\n",
    "# 1. The ORs will be scheduled for 1 week.\n",
    "# 2. The ORs will be scheduled for 7 days a week, teams will performed during the week and weekends\n",
    "# 3. The ORs will be scheduled for 8 hours a day, and the health care team will be working from 8am to 5pm\n",
    "\n",
    "# Create the model\n",
    "model = ConcreteModel()\n",
    "\n",
    "# Create the sets\n",
    "model.CPT = Set(initialize = df['CPT Code'].unique())\n",
    "model.Encounter = Set(initialize = df['Encounter ID'].unique())\n",
    "model.daynumber = Set(initialize = range(1, 8))\n",
    "model.hour = Set(initialize = range(8, 17))\n",
    "model.OR = Set(initialize = range(1, 4))\n",
    "\n",
    "# Create the parameters\n",
    "model.BookedTime = Param(model.CPT, initialize = df.set_index('CPT Code')['Booked Time (hr)'].to_dict())\n",
    "model.EncounterCPT = Param(model.Encounter, initialize = df.set_index('Encounter ID')['CPT Code'].to_dict())\n",
    "model.ORDayCapacity = Param(model.OR, initialize = {1: 8, 2: 8, 3: 8})\n",
    "\n",
    "\n",
    "# Create the variables\n",
    "model.x = Var(model.Encounter, model.OR, model.daynumber, model.hour, domain = Binary)\n",
    "\n",
    "# Create the objective function\n",
    "def obj_rule(model):\n",
    "    return sum(model.x[e, o, d, h] * model.BookedTime[model.EncounterCPT[e]] for e in model.Encounter for o in model.OR for d in model.daynumber for h in model.hour)\n",
    "\n",
    "# Create the objective \n",
    "model.obj = Objective(rule = obj_rule, sense = maximize)\n",
    "\n",
    "# Create the constraints\n",
    "\n",
    "# the total sum of BookedTime per day cannot be greater than 24 hours (8 hours per day * 3 PR)\n",
    "def constraint1_rule(model, d):\n",
    "    return sum(model.x[e, o, d, h] * model.BookedTime[model.EncounterCPT[e]] for e in model.Encounter for o in model.OR for h in model.hour) <= 24\n",
    "\n",
    "# Each OR can only perform one surgical procedure at a time\n",
    "def constraint2_rule(model, o, d, h):\n",
    "    return sum(model.x[e, o, d, h] for e in model.Encounter) <= 1\n",
    "\n",
    "# Each procedure can only be performed in one OR\n",
    "def constraint3_rule(model, e, d, h):\n",
    "    return sum(model.x[e, o, d, h] for o in model.OR) <= 1\n",
    "\n",
    "# model.encounter (procedure ID) will only by assigned one time\n",
    "def constraint4_rule(model, e, o, d, h):\n",
    "    return sum(model.x[e, o, d, h] for o in model.OR for d in model.daynumber for h in model.hour) <= 1\n",
    "\n",
    "# the total sum of BookedTime per OR cannot be greater than 56 hours (8 hours per day * 7 days)\n",
    "def constraint5_rule(model, o):\n",
    "    return sum(model.x[e, o, d, h] * model.BookedTime[model.EncounterCPT[e]] for e in model.Encounter for d in model.daynumber for h in model.hour) <= 56\n",
    "\n",
    "# the total sum of BookedTime per OR and day cannot be greater than 8 hours (8 hours per day)\n",
    "def constraint6_rule(model, o, d):\n",
    "    return sum(model.x[e, o, d, h] * model.BookedTime[model.EncounterCPT[e]] for e in model.Encounter for h in model.hour) <= 8\n",
    "\n",
    "\n",
    "# Create the constraints\n",
    "model.constraint1 = Constraint(model.daynumber, rule = constraint1_rule)\n",
    "model.constraint2 = Constraint(model.OR, model.daynumber, model.hour, rule = constraint2_rule)\n",
    "model.constraint3 = Constraint(model.Encounter, model.daynumber, model.hour, rule = constraint3_rule)\n",
    "model.constraint4 = Constraint(model.Encounter, model.OR, model.daynumber, model.hour, rule = constraint4_rule)\n",
    "model.constraint5 = Constraint(model.OR, rule = constraint5_rule)\n",
    "model.constraint6 = Constraint(model.OR, model.daynumber, rule = constraint6_rule)"
   ]
  },
  {
   "cell_type": "code",
   "execution_count": 125,
   "metadata": {},
   "outputs": [],
   "source": [
    "# Solve the model\n",
    "solver = SolverFactory('glpk', executable='c:/glpk-4.65/w64/glpsol')\n",
    "solver.solve(model);"
   ]
  },
  {
   "cell_type": "code",
   "execution_count": 126,
   "metadata": {},
   "outputs": [
    {
     "name": "stderr",
     "output_type": "stream",
     "text": [
      "C:\\Users\\dario\\AppData\\Local\\Temp\\ipykernel_38180\\1742789504.py:9: FutureWarning: The frame.append method is deprecated and will be removed from pandas in a future version. Use pandas.concat instead.\n",
      "  results = results.append({'Encounter ID': e, 'OR': o, 'Day': d, 'Hour': h}, ignore_index = True);\n",
      "C:\\Users\\dario\\AppData\\Local\\Temp\\ipykernel_38180\\1742789504.py:9: FutureWarning: The frame.append method is deprecated and will be removed from pandas in a future version. Use pandas.concat instead.\n",
      "  results = results.append({'Encounter ID': e, 'OR': o, 'Day': d, 'Hour': h}, ignore_index = True);\n",
      "C:\\Users\\dario\\AppData\\Local\\Temp\\ipykernel_38180\\1742789504.py:9: FutureWarning: The frame.append method is deprecated and will be removed from pandas in a future version. Use pandas.concat instead.\n",
      "  results = results.append({'Encounter ID': e, 'OR': o, 'Day': d, 'Hour': h}, ignore_index = True);\n",
      "C:\\Users\\dario\\AppData\\Local\\Temp\\ipykernel_38180\\1742789504.py:9: FutureWarning: The frame.append method is deprecated and will be removed from pandas in a future version. Use pandas.concat instead.\n",
      "  results = results.append({'Encounter ID': e, 'OR': o, 'Day': d, 'Hour': h}, ignore_index = True);\n",
      "C:\\Users\\dario\\AppData\\Local\\Temp\\ipykernel_38180\\1742789504.py:9: FutureWarning: The frame.append method is deprecated and will be removed from pandas in a future version. Use pandas.concat instead.\n",
      "  results = results.append({'Encounter ID': e, 'OR': o, 'Day': d, 'Hour': h}, ignore_index = True);\n",
      "C:\\Users\\dario\\AppData\\Local\\Temp\\ipykernel_38180\\1742789504.py:9: FutureWarning: The frame.append method is deprecated and will be removed from pandas in a future version. Use pandas.concat instead.\n",
      "  results = results.append({'Encounter ID': e, 'OR': o, 'Day': d, 'Hour': h}, ignore_index = True);\n",
      "C:\\Users\\dario\\AppData\\Local\\Temp\\ipykernel_38180\\1742789504.py:9: FutureWarning: The frame.append method is deprecated and will be removed from pandas in a future version. Use pandas.concat instead.\n",
      "  results = results.append({'Encounter ID': e, 'OR': o, 'Day': d, 'Hour': h}, ignore_index = True);\n",
      "C:\\Users\\dario\\AppData\\Local\\Temp\\ipykernel_38180\\1742789504.py:9: FutureWarning: The frame.append method is deprecated and will be removed from pandas in a future version. Use pandas.concat instead.\n",
      "  results = results.append({'Encounter ID': e, 'OR': o, 'Day': d, 'Hour': h}, ignore_index = True);\n",
      "C:\\Users\\dario\\AppData\\Local\\Temp\\ipykernel_38180\\1742789504.py:9: FutureWarning: The frame.append method is deprecated and will be removed from pandas in a future version. Use pandas.concat instead.\n",
      "  results = results.append({'Encounter ID': e, 'OR': o, 'Day': d, 'Hour': h}, ignore_index = True);\n",
      "C:\\Users\\dario\\AppData\\Local\\Temp\\ipykernel_38180\\1742789504.py:9: FutureWarning: The frame.append method is deprecated and will be removed from pandas in a future version. Use pandas.concat instead.\n",
      "  results = results.append({'Encounter ID': e, 'OR': o, 'Day': d, 'Hour': h}, ignore_index = True);\n",
      "C:\\Users\\dario\\AppData\\Local\\Temp\\ipykernel_38180\\1742789504.py:9: FutureWarning: The frame.append method is deprecated and will be removed from pandas in a future version. Use pandas.concat instead.\n",
      "  results = results.append({'Encounter ID': e, 'OR': o, 'Day': d, 'Hour': h}, ignore_index = True);\n",
      "C:\\Users\\dario\\AppData\\Local\\Temp\\ipykernel_38180\\1742789504.py:9: FutureWarning: The frame.append method is deprecated and will be removed from pandas in a future version. Use pandas.concat instead.\n",
      "  results = results.append({'Encounter ID': e, 'OR': o, 'Day': d, 'Hour': h}, ignore_index = True);\n",
      "C:\\Users\\dario\\AppData\\Local\\Temp\\ipykernel_38180\\1742789504.py:9: FutureWarning: The frame.append method is deprecated and will be removed from pandas in a future version. Use pandas.concat instead.\n",
      "  results = results.append({'Encounter ID': e, 'OR': o, 'Day': d, 'Hour': h}, ignore_index = True);\n",
      "C:\\Users\\dario\\AppData\\Local\\Temp\\ipykernel_38180\\1742789504.py:9: FutureWarning: The frame.append method is deprecated and will be removed from pandas in a future version. Use pandas.concat instead.\n",
      "  results = results.append({'Encounter ID': e, 'OR': o, 'Day': d, 'Hour': h}, ignore_index = True);\n",
      "C:\\Users\\dario\\AppData\\Local\\Temp\\ipykernel_38180\\1742789504.py:9: FutureWarning: The frame.append method is deprecated and will be removed from pandas in a future version. Use pandas.concat instead.\n",
      "  results = results.append({'Encounter ID': e, 'OR': o, 'Day': d, 'Hour': h}, ignore_index = True);\n",
      "C:\\Users\\dario\\AppData\\Local\\Temp\\ipykernel_38180\\1742789504.py:9: FutureWarning: The frame.append method is deprecated and will be removed from pandas in a future version. Use pandas.concat instead.\n",
      "  results = results.append({'Encounter ID': e, 'OR': o, 'Day': d, 'Hour': h}, ignore_index = True);\n",
      "C:\\Users\\dario\\AppData\\Local\\Temp\\ipykernel_38180\\1742789504.py:9: FutureWarning: The frame.append method is deprecated and will be removed from pandas in a future version. Use pandas.concat instead.\n",
      "  results = results.append({'Encounter ID': e, 'OR': o, 'Day': d, 'Hour': h}, ignore_index = True);\n",
      "C:\\Users\\dario\\AppData\\Local\\Temp\\ipykernel_38180\\1742789504.py:9: FutureWarning: The frame.append method is deprecated and will be removed from pandas in a future version. Use pandas.concat instead.\n",
      "  results = results.append({'Encounter ID': e, 'OR': o, 'Day': d, 'Hour': h}, ignore_index = True);\n",
      "C:\\Users\\dario\\AppData\\Local\\Temp\\ipykernel_38180\\1742789504.py:9: FutureWarning: The frame.append method is deprecated and will be removed from pandas in a future version. Use pandas.concat instead.\n",
      "  results = results.append({'Encounter ID': e, 'OR': o, 'Day': d, 'Hour': h}, ignore_index = True);\n",
      "C:\\Users\\dario\\AppData\\Local\\Temp\\ipykernel_38180\\1742789504.py:9: FutureWarning: The frame.append method is deprecated and will be removed from pandas in a future version. Use pandas.concat instead.\n",
      "  results = results.append({'Encounter ID': e, 'OR': o, 'Day': d, 'Hour': h}, ignore_index = True);\n",
      "C:\\Users\\dario\\AppData\\Local\\Temp\\ipykernel_38180\\1742789504.py:9: FutureWarning: The frame.append method is deprecated and will be removed from pandas in a future version. Use pandas.concat instead.\n",
      "  results = results.append({'Encounter ID': e, 'OR': o, 'Day': d, 'Hour': h}, ignore_index = True);\n",
      "C:\\Users\\dario\\AppData\\Local\\Temp\\ipykernel_38180\\1742789504.py:9: FutureWarning: The frame.append method is deprecated and will be removed from pandas in a future version. Use pandas.concat instead.\n",
      "  results = results.append({'Encounter ID': e, 'OR': o, 'Day': d, 'Hour': h}, ignore_index = True);\n",
      "C:\\Users\\dario\\AppData\\Local\\Temp\\ipykernel_38180\\1742789504.py:9: FutureWarning: The frame.append method is deprecated and will be removed from pandas in a future version. Use pandas.concat instead.\n",
      "  results = results.append({'Encounter ID': e, 'OR': o, 'Day': d, 'Hour': h}, ignore_index = True);\n",
      "C:\\Users\\dario\\AppData\\Local\\Temp\\ipykernel_38180\\1742789504.py:9: FutureWarning: The frame.append method is deprecated and will be removed from pandas in a future version. Use pandas.concat instead.\n",
      "  results = results.append({'Encounter ID': e, 'OR': o, 'Day': d, 'Hour': h}, ignore_index = True);\n",
      "C:\\Users\\dario\\AppData\\Local\\Temp\\ipykernel_38180\\1742789504.py:9: FutureWarning: The frame.append method is deprecated and will be removed from pandas in a future version. Use pandas.concat instead.\n",
      "  results = results.append({'Encounter ID': e, 'OR': o, 'Day': d, 'Hour': h}, ignore_index = True);\n",
      "C:\\Users\\dario\\AppData\\Local\\Temp\\ipykernel_38180\\1742789504.py:9: FutureWarning: The frame.append method is deprecated and will be removed from pandas in a future version. Use pandas.concat instead.\n",
      "  results = results.append({'Encounter ID': e, 'OR': o, 'Day': d, 'Hour': h}, ignore_index = True);\n",
      "C:\\Users\\dario\\AppData\\Local\\Temp\\ipykernel_38180\\1742789504.py:9: FutureWarning: The frame.append method is deprecated and will be removed from pandas in a future version. Use pandas.concat instead.\n",
      "  results = results.append({'Encounter ID': e, 'OR': o, 'Day': d, 'Hour': h}, ignore_index = True);\n",
      "C:\\Users\\dario\\AppData\\Local\\Temp\\ipykernel_38180\\1742789504.py:9: FutureWarning: The frame.append method is deprecated and will be removed from pandas in a future version. Use pandas.concat instead.\n",
      "  results = results.append({'Encounter ID': e, 'OR': o, 'Day': d, 'Hour': h}, ignore_index = True);\n",
      "C:\\Users\\dario\\AppData\\Local\\Temp\\ipykernel_38180\\1742789504.py:9: FutureWarning: The frame.append method is deprecated and will be removed from pandas in a future version. Use pandas.concat instead.\n",
      "  results = results.append({'Encounter ID': e, 'OR': o, 'Day': d, 'Hour': h}, ignore_index = True);\n",
      "C:\\Users\\dario\\AppData\\Local\\Temp\\ipykernel_38180\\1742789504.py:9: FutureWarning: The frame.append method is deprecated and will be removed from pandas in a future version. Use pandas.concat instead.\n",
      "  results = results.append({'Encounter ID': e, 'OR': o, 'Day': d, 'Hour': h}, ignore_index = True);\n",
      "C:\\Users\\dario\\AppData\\Local\\Temp\\ipykernel_38180\\1742789504.py:9: FutureWarning: The frame.append method is deprecated and will be removed from pandas in a future version. Use pandas.concat instead.\n",
      "  results = results.append({'Encounter ID': e, 'OR': o, 'Day': d, 'Hour': h}, ignore_index = True);\n",
      "C:\\Users\\dario\\AppData\\Local\\Temp\\ipykernel_38180\\1742789504.py:9: FutureWarning: The frame.append method is deprecated and will be removed from pandas in a future version. Use pandas.concat instead.\n",
      "  results = results.append({'Encounter ID': e, 'OR': o, 'Day': d, 'Hour': h}, ignore_index = True);\n",
      "C:\\Users\\dario\\AppData\\Local\\Temp\\ipykernel_38180\\1742789504.py:9: FutureWarning: The frame.append method is deprecated and will be removed from pandas in a future version. Use pandas.concat instead.\n",
      "  results = results.append({'Encounter ID': e, 'OR': o, 'Day': d, 'Hour': h}, ignore_index = True);\n",
      "C:\\Users\\dario\\AppData\\Local\\Temp\\ipykernel_38180\\1742789504.py:9: FutureWarning: The frame.append method is deprecated and will be removed from pandas in a future version. Use pandas.concat instead.\n",
      "  results = results.append({'Encounter ID': e, 'OR': o, 'Day': d, 'Hour': h}, ignore_index = True);\n",
      "C:\\Users\\dario\\AppData\\Local\\Temp\\ipykernel_38180\\1742789504.py:9: FutureWarning: The frame.append method is deprecated and will be removed from pandas in a future version. Use pandas.concat instead.\n",
      "  results = results.append({'Encounter ID': e, 'OR': o, 'Day': d, 'Hour': h}, ignore_index = True);\n",
      "C:\\Users\\dario\\AppData\\Local\\Temp\\ipykernel_38180\\1742789504.py:9: FutureWarning: The frame.append method is deprecated and will be removed from pandas in a future version. Use pandas.concat instead.\n",
      "  results = results.append({'Encounter ID': e, 'OR': o, 'Day': d, 'Hour': h}, ignore_index = True);\n",
      "C:\\Users\\dario\\AppData\\Local\\Temp\\ipykernel_38180\\1742789504.py:9: FutureWarning: The frame.append method is deprecated and will be removed from pandas in a future version. Use pandas.concat instead.\n",
      "  results = results.append({'Encounter ID': e, 'OR': o, 'Day': d, 'Hour': h}, ignore_index = True);\n",
      "C:\\Users\\dario\\AppData\\Local\\Temp\\ipykernel_38180\\1742789504.py:9: FutureWarning: The frame.append method is deprecated and will be removed from pandas in a future version. Use pandas.concat instead.\n",
      "  results = results.append({'Encounter ID': e, 'OR': o, 'Day': d, 'Hour': h}, ignore_index = True);\n",
      "C:\\Users\\dario\\AppData\\Local\\Temp\\ipykernel_38180\\1742789504.py:9: FutureWarning: The frame.append method is deprecated and will be removed from pandas in a future version. Use pandas.concat instead.\n",
      "  results = results.append({'Encounter ID': e, 'OR': o, 'Day': d, 'Hour': h}, ignore_index = True);\n",
      "C:\\Users\\dario\\AppData\\Local\\Temp\\ipykernel_38180\\1742789504.py:9: FutureWarning: The frame.append method is deprecated and will be removed from pandas in a future version. Use pandas.concat instead.\n",
      "  results = results.append({'Encounter ID': e, 'OR': o, 'Day': d, 'Hour': h}, ignore_index = True);\n",
      "C:\\Users\\dario\\AppData\\Local\\Temp\\ipykernel_38180\\1742789504.py:9: FutureWarning: The frame.append method is deprecated and will be removed from pandas in a future version. Use pandas.concat instead.\n",
      "  results = results.append({'Encounter ID': e, 'OR': o, 'Day': d, 'Hour': h}, ignore_index = True);\n",
      "C:\\Users\\dario\\AppData\\Local\\Temp\\ipykernel_38180\\1742789504.py:9: FutureWarning: The frame.append method is deprecated and will be removed from pandas in a future version. Use pandas.concat instead.\n",
      "  results = results.append({'Encounter ID': e, 'OR': o, 'Day': d, 'Hour': h}, ignore_index = True);\n",
      "C:\\Users\\dario\\AppData\\Local\\Temp\\ipykernel_38180\\1742789504.py:9: FutureWarning: The frame.append method is deprecated and will be removed from pandas in a future version. Use pandas.concat instead.\n",
      "  results = results.append({'Encounter ID': e, 'OR': o, 'Day': d, 'Hour': h}, ignore_index = True);\n",
      "C:\\Users\\dario\\AppData\\Local\\Temp\\ipykernel_38180\\1742789504.py:9: FutureWarning: The frame.append method is deprecated and will be removed from pandas in a future version. Use pandas.concat instead.\n",
      "  results = results.append({'Encounter ID': e, 'OR': o, 'Day': d, 'Hour': h}, ignore_index = True);\n",
      "C:\\Users\\dario\\AppData\\Local\\Temp\\ipykernel_38180\\1742789504.py:9: FutureWarning: The frame.append method is deprecated and will be removed from pandas in a future version. Use pandas.concat instead.\n",
      "  results = results.append({'Encounter ID': e, 'OR': o, 'Day': d, 'Hour': h}, ignore_index = True);\n",
      "C:\\Users\\dario\\AppData\\Local\\Temp\\ipykernel_38180\\1742789504.py:9: FutureWarning: The frame.append method is deprecated and will be removed from pandas in a future version. Use pandas.concat instead.\n",
      "  results = results.append({'Encounter ID': e, 'OR': o, 'Day': d, 'Hour': h}, ignore_index = True);\n",
      "C:\\Users\\dario\\AppData\\Local\\Temp\\ipykernel_38180\\1742789504.py:9: FutureWarning: The frame.append method is deprecated and will be removed from pandas in a future version. Use pandas.concat instead.\n",
      "  results = results.append({'Encounter ID': e, 'OR': o, 'Day': d, 'Hour': h}, ignore_index = True);\n",
      "C:\\Users\\dario\\AppData\\Local\\Temp\\ipykernel_38180\\1742789504.py:9: FutureWarning: The frame.append method is deprecated and will be removed from pandas in a future version. Use pandas.concat instead.\n",
      "  results = results.append({'Encounter ID': e, 'OR': o, 'Day': d, 'Hour': h}, ignore_index = True);\n",
      "C:\\Users\\dario\\AppData\\Local\\Temp\\ipykernel_38180\\1742789504.py:9: FutureWarning: The frame.append method is deprecated and will be removed from pandas in a future version. Use pandas.concat instead.\n",
      "  results = results.append({'Encounter ID': e, 'OR': o, 'Day': d, 'Hour': h}, ignore_index = True);\n",
      "C:\\Users\\dario\\AppData\\Local\\Temp\\ipykernel_38180\\1742789504.py:9: FutureWarning: The frame.append method is deprecated and will be removed from pandas in a future version. Use pandas.concat instead.\n",
      "  results = results.append({'Encounter ID': e, 'OR': o, 'Day': d, 'Hour': h}, ignore_index = True);\n",
      "C:\\Users\\dario\\AppData\\Local\\Temp\\ipykernel_38180\\1742789504.py:9: FutureWarning: The frame.append method is deprecated and will be removed from pandas in a future version. Use pandas.concat instead.\n",
      "  results = results.append({'Encounter ID': e, 'OR': o, 'Day': d, 'Hour': h}, ignore_index = True);\n",
      "C:\\Users\\dario\\AppData\\Local\\Temp\\ipykernel_38180\\1742789504.py:9: FutureWarning: The frame.append method is deprecated and will be removed from pandas in a future version. Use pandas.concat instead.\n",
      "  results = results.append({'Encounter ID': e, 'OR': o, 'Day': d, 'Hour': h}, ignore_index = True);\n",
      "C:\\Users\\dario\\AppData\\Local\\Temp\\ipykernel_38180\\1742789504.py:9: FutureWarning: The frame.append method is deprecated and will be removed from pandas in a future version. Use pandas.concat instead.\n",
      "  results = results.append({'Encounter ID': e, 'OR': o, 'Day': d, 'Hour': h}, ignore_index = True);\n",
      "C:\\Users\\dario\\AppData\\Local\\Temp\\ipykernel_38180\\1742789504.py:9: FutureWarning: The frame.append method is deprecated and will be removed from pandas in a future version. Use pandas.concat instead.\n",
      "  results = results.append({'Encounter ID': e, 'OR': o, 'Day': d, 'Hour': h}, ignore_index = True);\n",
      "C:\\Users\\dario\\AppData\\Local\\Temp\\ipykernel_38180\\1742789504.py:9: FutureWarning: The frame.append method is deprecated and will be removed from pandas in a future version. Use pandas.concat instead.\n",
      "  results = results.append({'Encounter ID': e, 'OR': o, 'Day': d, 'Hour': h}, ignore_index = True);\n",
      "C:\\Users\\dario\\AppData\\Local\\Temp\\ipykernel_38180\\1742789504.py:9: FutureWarning: The frame.append method is deprecated and will be removed from pandas in a future version. Use pandas.concat instead.\n",
      "  results = results.append({'Encounter ID': e, 'OR': o, 'Day': d, 'Hour': h}, ignore_index = True);\n",
      "C:\\Users\\dario\\AppData\\Local\\Temp\\ipykernel_38180\\1742789504.py:9: FutureWarning: The frame.append method is deprecated and will be removed from pandas in a future version. Use pandas.concat instead.\n",
      "  results = results.append({'Encounter ID': e, 'OR': o, 'Day': d, 'Hour': h}, ignore_index = True);\n",
      "C:\\Users\\dario\\AppData\\Local\\Temp\\ipykernel_38180\\1742789504.py:9: FutureWarning: The frame.append method is deprecated and will be removed from pandas in a future version. Use pandas.concat instead.\n",
      "  results = results.append({'Encounter ID': e, 'OR': o, 'Day': d, 'Hour': h}, ignore_index = True);\n",
      "C:\\Users\\dario\\AppData\\Local\\Temp\\ipykernel_38180\\1742789504.py:9: FutureWarning: The frame.append method is deprecated and will be removed from pandas in a future version. Use pandas.concat instead.\n",
      "  results = results.append({'Encounter ID': e, 'OR': o, 'Day': d, 'Hour': h}, ignore_index = True);\n",
      "C:\\Users\\dario\\AppData\\Local\\Temp\\ipykernel_38180\\1742789504.py:9: FutureWarning: The frame.append method is deprecated and will be removed from pandas in a future version. Use pandas.concat instead.\n",
      "  results = results.append({'Encounter ID': e, 'OR': o, 'Day': d, 'Hour': h}, ignore_index = True);\n",
      "C:\\Users\\dario\\AppData\\Local\\Temp\\ipykernel_38180\\1742789504.py:9: FutureWarning: The frame.append method is deprecated and will be removed from pandas in a future version. Use pandas.concat instead.\n",
      "  results = results.append({'Encounter ID': e, 'OR': o, 'Day': d, 'Hour': h}, ignore_index = True);\n",
      "C:\\Users\\dario\\AppData\\Local\\Temp\\ipykernel_38180\\1742789504.py:9: FutureWarning: The frame.append method is deprecated and will be removed from pandas in a future version. Use pandas.concat instead.\n",
      "  results = results.append({'Encounter ID': e, 'OR': o, 'Day': d, 'Hour': h}, ignore_index = True);\n",
      "C:\\Users\\dario\\AppData\\Local\\Temp\\ipykernel_38180\\1742789504.py:9: FutureWarning: The frame.append method is deprecated and will be removed from pandas in a future version. Use pandas.concat instead.\n",
      "  results = results.append({'Encounter ID': e, 'OR': o, 'Day': d, 'Hour': h}, ignore_index = True);\n",
      "C:\\Users\\dario\\AppData\\Local\\Temp\\ipykernel_38180\\1742789504.py:9: FutureWarning: The frame.append method is deprecated and will be removed from pandas in a future version. Use pandas.concat instead.\n",
      "  results = results.append({'Encounter ID': e, 'OR': o, 'Day': d, 'Hour': h}, ignore_index = True);\n",
      "C:\\Users\\dario\\AppData\\Local\\Temp\\ipykernel_38180\\1742789504.py:9: FutureWarning: The frame.append method is deprecated and will be removed from pandas in a future version. Use pandas.concat instead.\n",
      "  results = results.append({'Encounter ID': e, 'OR': o, 'Day': d, 'Hour': h}, ignore_index = True);\n",
      "C:\\Users\\dario\\AppData\\Local\\Temp\\ipykernel_38180\\1742789504.py:9: FutureWarning: The frame.append method is deprecated and will be removed from pandas in a future version. Use pandas.concat instead.\n",
      "  results = results.append({'Encounter ID': e, 'OR': o, 'Day': d, 'Hour': h}, ignore_index = True);\n",
      "C:\\Users\\dario\\AppData\\Local\\Temp\\ipykernel_38180\\1742789504.py:9: FutureWarning: The frame.append method is deprecated and will be removed from pandas in a future version. Use pandas.concat instead.\n",
      "  results = results.append({'Encounter ID': e, 'OR': o, 'Day': d, 'Hour': h}, ignore_index = True);\n",
      "C:\\Users\\dario\\AppData\\Local\\Temp\\ipykernel_38180\\1742789504.py:9: FutureWarning: The frame.append method is deprecated and will be removed from pandas in a future version. Use pandas.concat instead.\n",
      "  results = results.append({'Encounter ID': e, 'OR': o, 'Day': d, 'Hour': h}, ignore_index = True);\n",
      "C:\\Users\\dario\\AppData\\Local\\Temp\\ipykernel_38180\\1742789504.py:9: FutureWarning: The frame.append method is deprecated and will be removed from pandas in a future version. Use pandas.concat instead.\n",
      "  results = results.append({'Encounter ID': e, 'OR': o, 'Day': d, 'Hour': h}, ignore_index = True);\n",
      "C:\\Users\\dario\\AppData\\Local\\Temp\\ipykernel_38180\\1742789504.py:9: FutureWarning: The frame.append method is deprecated and will be removed from pandas in a future version. Use pandas.concat instead.\n",
      "  results = results.append({'Encounter ID': e, 'OR': o, 'Day': d, 'Hour': h}, ignore_index = True);\n",
      "C:\\Users\\dario\\AppData\\Local\\Temp\\ipykernel_38180\\1742789504.py:9: FutureWarning: The frame.append method is deprecated and will be removed from pandas in a future version. Use pandas.concat instead.\n",
      "  results = results.append({'Encounter ID': e, 'OR': o, 'Day': d, 'Hour': h}, ignore_index = True);\n",
      "C:\\Users\\dario\\AppData\\Local\\Temp\\ipykernel_38180\\1742789504.py:9: FutureWarning: The frame.append method is deprecated and will be removed from pandas in a future version. Use pandas.concat instead.\n",
      "  results = results.append({'Encounter ID': e, 'OR': o, 'Day': d, 'Hour': h}, ignore_index = True);\n",
      "C:\\Users\\dario\\AppData\\Local\\Temp\\ipykernel_38180\\1742789504.py:9: FutureWarning: The frame.append method is deprecated and will be removed from pandas in a future version. Use pandas.concat instead.\n",
      "  results = results.append({'Encounter ID': e, 'OR': o, 'Day': d, 'Hour': h}, ignore_index = True);\n",
      "C:\\Users\\dario\\AppData\\Local\\Temp\\ipykernel_38180\\1742789504.py:9: FutureWarning: The frame.append method is deprecated and will be removed from pandas in a future version. Use pandas.concat instead.\n",
      "  results = results.append({'Encounter ID': e, 'OR': o, 'Day': d, 'Hour': h}, ignore_index = True);\n",
      "C:\\Users\\dario\\AppData\\Local\\Temp\\ipykernel_38180\\1742789504.py:9: FutureWarning: The frame.append method is deprecated and will be removed from pandas in a future version. Use pandas.concat instead.\n",
      "  results = results.append({'Encounter ID': e, 'OR': o, 'Day': d, 'Hour': h}, ignore_index = True);\n",
      "C:\\Users\\dario\\AppData\\Local\\Temp\\ipykernel_38180\\1742789504.py:9: FutureWarning: The frame.append method is deprecated and will be removed from pandas in a future version. Use pandas.concat instead.\n",
      "  results = results.append({'Encounter ID': e, 'OR': o, 'Day': d, 'Hour': h}, ignore_index = True);\n",
      "C:\\Users\\dario\\AppData\\Local\\Temp\\ipykernel_38180\\1742789504.py:9: FutureWarning: The frame.append method is deprecated and will be removed from pandas in a future version. Use pandas.concat instead.\n",
      "  results = results.append({'Encounter ID': e, 'OR': o, 'Day': d, 'Hour': h}, ignore_index = True);\n",
      "C:\\Users\\dario\\AppData\\Local\\Temp\\ipykernel_38180\\1742789504.py:9: FutureWarning: The frame.append method is deprecated and will be removed from pandas in a future version. Use pandas.concat instead.\n",
      "  results = results.append({'Encounter ID': e, 'OR': o, 'Day': d, 'Hour': h}, ignore_index = True);\n",
      "C:\\Users\\dario\\AppData\\Local\\Temp\\ipykernel_38180\\1742789504.py:9: FutureWarning: The frame.append method is deprecated and will be removed from pandas in a future version. Use pandas.concat instead.\n",
      "  results = results.append({'Encounter ID': e, 'OR': o, 'Day': d, 'Hour': h}, ignore_index = True);\n",
      "C:\\Users\\dario\\AppData\\Local\\Temp\\ipykernel_38180\\1742789504.py:9: FutureWarning: The frame.append method is deprecated and will be removed from pandas in a future version. Use pandas.concat instead.\n",
      "  results = results.append({'Encounter ID': e, 'OR': o, 'Day': d, 'Hour': h}, ignore_index = True);\n",
      "C:\\Users\\dario\\AppData\\Local\\Temp\\ipykernel_38180\\1742789504.py:9: FutureWarning: The frame.append method is deprecated and will be removed from pandas in a future version. Use pandas.concat instead.\n",
      "  results = results.append({'Encounter ID': e, 'OR': o, 'Day': d, 'Hour': h}, ignore_index = True);\n",
      "C:\\Users\\dario\\AppData\\Local\\Temp\\ipykernel_38180\\1742789504.py:9: FutureWarning: The frame.append method is deprecated and will be removed from pandas in a future version. Use pandas.concat instead.\n",
      "  results = results.append({'Encounter ID': e, 'OR': o, 'Day': d, 'Hour': h}, ignore_index = True);\n",
      "C:\\Users\\dario\\AppData\\Local\\Temp\\ipykernel_38180\\1742789504.py:9: FutureWarning: The frame.append method is deprecated and will be removed from pandas in a future version. Use pandas.concat instead.\n",
      "  results = results.append({'Encounter ID': e, 'OR': o, 'Day': d, 'Hour': h}, ignore_index = True);\n",
      "C:\\Users\\dario\\AppData\\Local\\Temp\\ipykernel_38180\\1742789504.py:9: FutureWarning: The frame.append method is deprecated and will be removed from pandas in a future version. Use pandas.concat instead.\n",
      "  results = results.append({'Encounter ID': e, 'OR': o, 'Day': d, 'Hour': h}, ignore_index = True);\n"
     ]
    }
   ],
   "source": [
    "# Print the results and save them\n",
    "results = pd.DataFrame(columns = ['Encounter ID', 'OR', 'Day', 'Hour'])\n",
    "\n",
    "for e in model.Encounter:\n",
    "    for o in model.OR:\n",
    "        for d in model.daynumber:\n",
    "            for h in model.hour:\n",
    "                if model.x[e, o, d, h]() == 1:\n",
    "                    results = results.append({'Encounter ID': e, 'OR': o, 'Day': d, 'Hour': h}, ignore_index = True);"
   ]
  },
  {
   "cell_type": "code",
   "execution_count": 127,
   "metadata": {},
   "outputs": [
    {
     "data": {
      "text/html": [
       "<div>\n",
       "<style scoped>\n",
       "    .dataframe tbody tr th:only-of-type {\n",
       "        vertical-align: middle;\n",
       "    }\n",
       "\n",
       "    .dataframe tbody tr th {\n",
       "        vertical-align: top;\n",
       "    }\n",
       "\n",
       "    .dataframe thead th {\n",
       "        text-align: right;\n",
       "    }\n",
       "</style>\n",
       "<table border=\"1\" class=\"dataframe\">\n",
       "  <thead>\n",
       "    <tr style=\"text-align: right;\">\n",
       "      <th></th>\n",
       "      <th>Encounter ID</th>\n",
       "      <th>OR</th>\n",
       "      <th>Day</th>\n",
       "      <th>Hour</th>\n",
       "    </tr>\n",
       "  </thead>\n",
       "  <tbody>\n",
       "    <tr>\n",
       "      <th>0</th>\n",
       "      <td>10407</td>\n",
       "      <td>1</td>\n",
       "      <td>3</td>\n",
       "      <td>9</td>\n",
       "    </tr>\n",
       "    <tr>\n",
       "      <th>1</th>\n",
       "      <td>11734</td>\n",
       "      <td>2</td>\n",
       "      <td>7</td>\n",
       "      <td>11</td>\n",
       "    </tr>\n",
       "    <tr>\n",
       "      <th>2</th>\n",
       "      <td>10135</td>\n",
       "      <td>2</td>\n",
       "      <td>3</td>\n",
       "      <td>8</td>\n",
       "    </tr>\n",
       "    <tr>\n",
       "      <th>3</th>\n",
       "      <td>11267</td>\n",
       "      <td>2</td>\n",
       "      <td>3</td>\n",
       "      <td>10</td>\n",
       "    </tr>\n",
       "    <tr>\n",
       "      <th>4</th>\n",
       "      <td>10620</td>\n",
       "      <td>3</td>\n",
       "      <td>7</td>\n",
       "      <td>10</td>\n",
       "    </tr>\n",
       "    <tr>\n",
       "      <th>...</th>\n",
       "      <td>...</td>\n",
       "      <td>...</td>\n",
       "      <td>...</td>\n",
       "      <td>...</td>\n",
       "    </tr>\n",
       "    <tr>\n",
       "      <th>79</th>\n",
       "      <td>11970</td>\n",
       "      <td>3</td>\n",
       "      <td>3</td>\n",
       "      <td>10</td>\n",
       "    </tr>\n",
       "    <tr>\n",
       "      <th>80</th>\n",
       "      <td>11756</td>\n",
       "      <td>3</td>\n",
       "      <td>2</td>\n",
       "      <td>8</td>\n",
       "    </tr>\n",
       "    <tr>\n",
       "      <th>81</th>\n",
       "      <td>11732</td>\n",
       "      <td>2</td>\n",
       "      <td>7</td>\n",
       "      <td>10</td>\n",
       "    </tr>\n",
       "    <tr>\n",
       "      <th>82</th>\n",
       "      <td>11816</td>\n",
       "      <td>3</td>\n",
       "      <td>2</td>\n",
       "      <td>10</td>\n",
       "    </tr>\n",
       "    <tr>\n",
       "      <th>83</th>\n",
       "      <td>10342</td>\n",
       "      <td>3</td>\n",
       "      <td>6</td>\n",
       "      <td>10</td>\n",
       "    </tr>\n",
       "  </tbody>\n",
       "</table>\n",
       "<p>84 rows × 4 columns</p>\n",
       "</div>"
      ],
      "text/plain": [
       "   Encounter ID OR Day Hour\n",
       "0         10407  1   3    9\n",
       "1         11734  2   7   11\n",
       "2         10135  2   3    8\n",
       "3         11267  2   3   10\n",
       "4         10620  3   7   10\n",
       "..          ... ..  ..  ...\n",
       "79        11970  3   3   10\n",
       "80        11756  3   2    8\n",
       "81        11732  2   7   10\n",
       "82        11816  3   2   10\n",
       "83        10342  3   6   10\n",
       "\n",
       "[84 rows x 4 columns]"
      ]
     },
     "execution_count": 127,
     "metadata": {},
     "output_type": "execute_result"
    }
   ],
   "source": [
    "results"
   ]
  },
  {
   "cell_type": "code",
   "execution_count": 128,
   "metadata": {},
   "outputs": [],
   "source": [
    "# Cross the results Encounter ID with DF Booking Time (hr)\n",
    "results = pd.merge(results, df[['Encounter ID', 'Booked Time (hr)']], on = 'Encounter ID', how = 'left')"
   ]
  },
  {
   "cell_type": "code",
   "execution_count": 129,
   "metadata": {},
   "outputs": [
    {
     "data": {
      "text/html": [
       "<div>\n",
       "<style scoped>\n",
       "    .dataframe tbody tr th:only-of-type {\n",
       "        vertical-align: middle;\n",
       "    }\n",
       "\n",
       "    .dataframe tbody tr th {\n",
       "        vertical-align: top;\n",
       "    }\n",
       "\n",
       "    .dataframe thead th {\n",
       "        text-align: right;\n",
       "    }\n",
       "</style>\n",
       "<table border=\"1\" class=\"dataframe\">\n",
       "  <thead>\n",
       "    <tr style=\"text-align: right;\">\n",
       "      <th></th>\n",
       "      <th>Encounter ID</th>\n",
       "      <th>OR</th>\n",
       "      <th>Day</th>\n",
       "      <th>Hour</th>\n",
       "      <th>Booked Time (hr)</th>\n",
       "    </tr>\n",
       "  </thead>\n",
       "  <tbody>\n",
       "    <tr>\n",
       "      <th>0</th>\n",
       "      <td>10407</td>\n",
       "      <td>1</td>\n",
       "      <td>3</td>\n",
       "      <td>9</td>\n",
       "      <td>1.0</td>\n",
       "    </tr>\n",
       "    <tr>\n",
       "      <th>1</th>\n",
       "      <td>11734</td>\n",
       "      <td>2</td>\n",
       "      <td>7</td>\n",
       "      <td>11</td>\n",
       "      <td>2.0</td>\n",
       "    </tr>\n",
       "    <tr>\n",
       "      <th>2</th>\n",
       "      <td>10135</td>\n",
       "      <td>2</td>\n",
       "      <td>3</td>\n",
       "      <td>8</td>\n",
       "      <td>2.0</td>\n",
       "    </tr>\n",
       "    <tr>\n",
       "      <th>3</th>\n",
       "      <td>11267</td>\n",
       "      <td>2</td>\n",
       "      <td>3</td>\n",
       "      <td>10</td>\n",
       "      <td>2.0</td>\n",
       "    </tr>\n",
       "    <tr>\n",
       "      <th>4</th>\n",
       "      <td>10620</td>\n",
       "      <td>3</td>\n",
       "      <td>7</td>\n",
       "      <td>10</td>\n",
       "      <td>1.5</td>\n",
       "    </tr>\n",
       "  </tbody>\n",
       "</table>\n",
       "</div>"
      ],
      "text/plain": [
       "  Encounter ID OR Day Hour  Booked Time (hr)\n",
       "0        10407  1   3    9               1.0\n",
       "1        11734  2   7   11               2.0\n",
       "2        10135  2   3    8               2.0\n",
       "3        11267  2   3   10               2.0\n",
       "4        10620  3   7   10               1.5"
      ]
     },
     "execution_count": 129,
     "metadata": {},
     "output_type": "execute_result"
    }
   ],
   "source": [
    "results.head()"
   ]
  },
  {
   "cell_type": "code",
   "execution_count": 130,
   "metadata": {},
   "outputs": [
    {
     "data": {
      "text/plain": [
       "OR\n",
       "1    56.0\n",
       "2    56.0\n",
       "3    56.0\n",
       "Name: Booked Time (hr), dtype: float64"
      ]
     },
     "execution_count": 130,
     "metadata": {},
     "output_type": "execute_result"
    }
   ],
   "source": [
    "# Calculare total Booked Time (hr) per OR\n",
    "results.groupby('OR')['Booked Time (hr)'].sum()"
   ]
  },
  {
   "cell_type": "code",
   "execution_count": 131,
   "metadata": {},
   "outputs": [
    {
     "data": {
      "text/plain": [
       "Day\n",
       "1    24.0\n",
       "2    24.0\n",
       "3    24.0\n",
       "4    24.0\n",
       "5    24.0\n",
       "6    24.0\n",
       "7    24.0\n",
       "Name: Booked Time (hr), dtype: float64"
      ]
     },
     "execution_count": 131,
     "metadata": {},
     "output_type": "execute_result"
    }
   ],
   "source": [
    "# Calculare total Booked Time (hr) per Day\n",
    "results.groupby('Day')['Booked Time (hr)'].sum()"
   ]
  },
  {
   "cell_type": "code",
   "execution_count": 132,
   "metadata": {},
   "outputs": [
    {
     "data": {
      "text/plain": [
       "OR  Day\n",
       "1   1      8.0\n",
       "    2      8.0\n",
       "    3      8.0\n",
       "    4      8.0\n",
       "    5      8.0\n",
       "    6      8.0\n",
       "    7      8.0\n",
       "2   1      8.0\n",
       "    2      8.0\n",
       "    3      8.0\n",
       "    4      8.0\n",
       "    5      8.0\n",
       "    6      8.0\n",
       "    7      8.0\n",
       "3   1      8.0\n",
       "    2      8.0\n",
       "    3      8.0\n",
       "    4      8.0\n",
       "    5      8.0\n",
       "    6      8.0\n",
       "    7      8.0\n",
       "Name: Booked Time (hr), dtype: float64"
      ]
     },
     "execution_count": 132,
     "metadata": {},
     "output_type": "execute_result"
    }
   ],
   "source": [
    "# Calculare total Booked Time (hr) per OR and Day\n",
    "results.groupby(['OR', 'Day'])['Booked Time (hr)'].sum()"
   ]
  },
  {
   "cell_type": "code",
   "execution_count": 144,
   "metadata": {},
   "outputs": [],
   "source": [
    "# Calculate the End Time of each scheduled procedure\n",
    "results['End Time'] = results['Hour'] + results['Booked Time (hr)']"
   ]
  },
  {
   "cell_type": "code",
   "execution_count": 169,
   "metadata": {},
   "outputs": [],
   "source": [
    "# Generate a Table that Orders the Encounter ID by OR, Day and Hour\n",
    "results = results.sort_values(by = ['OR', 'Day', 'Hour'])\n"
   ]
  },
  {
   "cell_type": "code",
   "execution_count": 171,
   "metadata": {},
   "outputs": [
    {
     "data": {
      "text/html": [
       "<div>\n",
       "<style scoped>\n",
       "    .dataframe tbody tr th:only-of-type {\n",
       "        vertical-align: middle;\n",
       "    }\n",
       "\n",
       "    .dataframe tbody tr th {\n",
       "        vertical-align: top;\n",
       "    }\n",
       "\n",
       "    .dataframe thead th {\n",
       "        text-align: right;\n",
       "    }\n",
       "</style>\n",
       "<table border=\"1\" class=\"dataframe\">\n",
       "  <thead>\n",
       "    <tr style=\"text-align: right;\">\n",
       "      <th></th>\n",
       "      <th>Encounter ID</th>\n",
       "      <th>OR</th>\n",
       "      <th>Day</th>\n",
       "      <th>Hour</th>\n",
       "      <th>Booked Time (hr)</th>\n",
       "      <th>End Time</th>\n",
       "    </tr>\n",
       "  </thead>\n",
       "  <tbody>\n",
       "    <tr>\n",
       "      <th>62</th>\n",
       "      <td>10817</td>\n",
       "      <td>1</td>\n",
       "      <td>1</td>\n",
       "      <td>08:00:00</td>\n",
       "      <td>3.0</td>\n",
       "      <td>11.0</td>\n",
       "    </tr>\n",
       "    <tr>\n",
       "      <th>15</th>\n",
       "      <td>10481</td>\n",
       "      <td>1</td>\n",
       "      <td>1</td>\n",
       "      <td>09:00:00</td>\n",
       "      <td>2.0</td>\n",
       "      <td>11.0</td>\n",
       "    </tr>\n",
       "    <tr>\n",
       "      <th>37</th>\n",
       "      <td>10127</td>\n",
       "      <td>1</td>\n",
       "      <td>1</td>\n",
       "      <td>10:00:00</td>\n",
       "      <td>3.0</td>\n",
       "      <td>13.0</td>\n",
       "    </tr>\n",
       "  </tbody>\n",
       "</table>\n",
       "</div>"
      ],
      "text/plain": [
       "   Encounter ID OR Day      Hour  Booked Time (hr) End Time\n",
       "62        10817  1   1  08:00:00               3.0     11.0\n",
       "15        10481  1   1  09:00:00               2.0     11.0\n",
       "37        10127  1   1  10:00:00               3.0     13.0"
      ]
     },
     "execution_count": 171,
     "metadata": {},
     "output_type": "execute_result"
    }
   ],
   "source": [
    "# Present the Schedule for Day 1 and OR 1 in a table\n",
    "results[(results['OR'] == 1) & (results['Day'] == 1)]"
   ]
  },
  {
   "cell_type": "markdown",
   "metadata": {},
   "source": [
    "A Pyomo's concrete model() was utilized to optimize the scheduling of operating rooms in a healthcare facility over a three-month period. By formulating the problem with decision variables, an objective function, and constraints, the aim was to maximize the number of scheduled procedures while considering various limitations.\n",
    "\n",
    "The model was solved using the GLPK solver, yielding an optimal solution that maximized the number of scheduled procedures and adhered to the defined constraints. The results were presented in a concise table, showcasing the Encounter ID, operating room, day, hour, booked time, and end time for each scheduled procedure.\n",
    "\n",
    "By leveraging Pyomo and the concrete model(), a scheduling team can be able to enhance resource utilization and increase the efficiency of the scheduling process for operating rooms. This approach offers versatility in handling different constraints and objectives, making it valuable for similar scheduling challenges in healthcare facilities."
   ]
  }
 ],
 "metadata": {
  "kernelspec": {
   "display_name": "base",
   "language": "python",
   "name": "python3"
  },
  "language_info": {
   "codemirror_mode": {
    "name": "ipython",
    "version": 3
   },
   "file_extension": ".py",
   "mimetype": "text/x-python",
   "name": "python",
   "nbconvert_exporter": "python",
   "pygments_lexer": "ipython3",
   "version": "3.9.12 (main, Apr  4 2022, 05:22:27) [MSC v.1916 64 bit (AMD64)]"
  },
  "orig_nbformat": 4,
  "vscode": {
   "interpreter": {
    "hash": "ad2bdc8ecc057115af97d19610ffacc2b4e99fae6737bb82f5d7fb13d2f2c186"
   }
  }
 },
 "nbformat": 4,
 "nbformat_minor": 2
}
